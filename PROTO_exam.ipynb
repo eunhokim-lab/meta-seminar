{
 "cells": [
  {
   "cell_type": "code",
   "execution_count": null,
   "metadata": {},
   "outputs": [],
   "source": [
    "\"\"\"\n",
    "    Base network Conv component\n",
    "\"\"\"\n",
    "def conv_block(inputs, out_channels, name='conv'):\n",
    "    with tf.variable_scope(name):\n",
    "        conv = tf.layers.conv2d(inputs, out_channels, kernel_size=3, padding='SAME')\n",
    "        conv = tf.contrib.layers.batch_norm(conv, updates_collections=None, decay=0.99, scale=True, center=True)\n",
    "        conv = tf.nn.relu(conv)\n",
    "        conv = tf.contrib.layers.max_pool2d(conv, 2)\n",
    "        return conv\n",
    "\n",
    "\"\"\"\n",
    "    Base Network\n",
    "\"\"\"\n",
    "def encoder(x, h_dim, z_dim, reuse=False):\n",
    "    with tf.variable_scope('encoder', reuse=reuse):\n",
    "        net = conv_block(x, h_dim, name='conv_1')\n",
    "        net = conv_block(net, h_dim, name='conv_2')\n",
    "        net = conv_block(net, h_dim, name='conv_3')\n",
    "        net = conv_block(net, z_dim, name='conv_4')\n",
    "        net = tf.contrib.layers.flatten(net)\n",
    "        return net"
   ]
  },
  {
   "cell_type": "code",
   "execution_count": null,
   "metadata": {},
   "outputs": [],
   "source": [
    "\"\"\"\n",
    "    matching network와의 큰 차이점.\n",
    "    embedding 공간에서의 clustering을 위해 data point간 distance metric을\n",
    "    euclidean distance 했을때, 결과가 향상된다.\n",
    "    \n",
    "    https://www.baeldung.com/cs/euclidean-distance-vs-cosine-similarity\n",
    "\"\"\"\n",
    "def euclidean_distance(a, b):\n",
    "    # a.shape = N x D\n",
    "    # b.shape = M x D\n",
    "    N, D = tf.shape(a)[0], tf.shape(a)[1]\n",
    "    M = tf.shape(b)[0]\n",
    "    a = tf.tile(tf.expand_dims(a, axis=1), (1, M, 1))\n",
    "    b = tf.tile(tf.expand_dims(b, axis=0), (N, 1, 1))\n",
    "    return tf.reduce_mean(tf.square(a - b), axis=2)"
   ]
  },
  {
   "cell_type": "code",
   "execution_count": 3,
   "metadata": {},
   "outputs": [],
   "source": [
    "n_epochs = 100                                # origin-training loop count\n",
    "n_episodes = 100                              # task count\n",
    "n_way = 20                                    # 20 way\n",
    "n_shot = 5                                    # 5 shot\n",
    "n_query = 15                                  # 15 (meta_test 용 data count)\n",
    "n_examples = 350                              # ....\n",
    "im_width, im_height, channels = 84, 84, 3     # network config\n",
    "h_dim = 64                                    # hidden layer dimension : hyper-param\n",
    "z_dim = 64                                    # n-1 layer dimension : hyper-param"
   ]
  },
  {
   "cell_type": "code",
   "execution_count": null,
   "metadata": {},
   "outputs": [],
   "source": [
    "# Load Train Dataset\n",
    "train_dataset = np.load('mini-imagenet-train.npy')     # data-set\n",
    "n_classes = train_dataset.shape[0]                     # class count (task 구성시 해당 class들의 combination)\n",
    "print(train_dataset.shape)"
   ]
  },
  {
   "cell_type": "code",
   "execution_count": null,
   "metadata": {},
   "outputs": [],
   "source": [
    "x = tf.placeholder(tf.float32, [None, None, im_height, im_width, channels])    # image placeholder setting  -->  (20,5,84,84,3)   : (kway, train_shot, h, w, c)\n",
    "q = tf.placeholder(tf.float32, [None, None, im_height, im_width, channels])    # query placeholder setting  -->  (20,15,84,84,3)  : (kway, test_shot, h, w, c)\n",
    "x_shape = tf.shape(x)                                                          # shape=(5,)\n",
    "q_shape = tf.shape(q)                                                          # shape=(5,)\n",
    "num_classes, num_support = x_shape[0], x_shape[1]                              # num_classes = 20\n",
    "                                                                               # num_support = 5         \n",
    "num_queries = q_shape[1]                                                       # num_queries = 15  \n",
    "y = tf.placeholder(tf.int64, [None, None])                                     # (20, 15) 20개의 class에 대해, queries 15장\n",
    "y_one_hot = tf.one_hot(y, depth=num_classes)\n",
    "\n",
    "\n",
    "# num_classes(20) * num_support(5) = 100\n",
    "emb_in = encoder(tf.reshape(x, [num_classes * num_support, im_height, im_width, channels]), h_dim, z_dim)\n",
    "# emb_dim : 1600\n",
    "emb_dim = tf.shape(emb_in)[-1]\n",
    "# 각 class별 instance(data,image)들의 평균 : manifold space에서의 centroid를 구함. (20, 5, 1600)\n",
    "# emb_x : centorid (1~k)가 1600 dim의 vector로 표현 shape=(20: class * support, 1600)\n",
    "emb_x = tf.reduce_mean(tf.reshape(emb_in, [num_classes, num_support, emb_dim]), axis=1)\n",
    "\n",
    "# num_classes(20) * num_queries(15) = 300\n",
    "# emb_q : query data들에 대한 representation, 1600 dim의 vector shape=(300: class * query, 1600)\n",
    "emb_q = encoder(tf.reshape(q, [num_classes * num_queries, im_height, im_width, channels]), h_dim, z_dim, reuse=True)\n",
    "\n",
    "# shape=(300, 20)\n",
    "# 300개의 query instance와 class별 centroid와이 euclid 거리\n",
    "dists = euclidean_distance(emb_q, emb_x) \n",
    "\n",
    "# 0~1 soft_max후 \n",
    "# shape=(20, 15, 20) 각 query들이 각 class별로 어디에 가장 가까운지. 클래스별, 쿼리, 각 클래스 centroid와의 거리 -> softmax & log\n",
    "log_p_y = tf.reshape(tf.nn.log_softmax(-dists), [num_classes, num_queries, -1])\n",
    "ce_loss = -tf.reduce_mean(tf.reshape(tf.reduce_sum(tf.multiply(y_one_hot, log_p_y), axis=-1), [-1]))\n",
    "acc = tf.reduce_mean(tf.to_float(tf.equal(tf.argmax(log_p_y, axis=-1), y)))"
   ]
  },
  {
   "cell_type": "code",
   "execution_count": null,
   "metadata": {},
   "outputs": [],
   "source": [
    "train_op = tf.train.AdamOptimizer().minimize(ce_loss)"
   ]
  },
  {
   "cell_type": "code",
   "execution_count": null,
   "metadata": {},
   "outputs": [],
   "source": [
    "# tf syntax\n",
    "sess = tf.InteractiveSession()\n",
    "init_op = tf.global_variables_initializer()\n",
    "sess.run(init_op)"
   ]
  },
  {
   "cell_type": "code",
   "execution_count": null,
   "metadata": {},
   "outputs": [],
   "source": [
    "\n",
    "# 전체 epoch loop = 100번\n",
    "for ep in range(n_epochs):\n",
    "    # episode == task \n",
    "    # n_epochs : meta learner loop,= 100번 \n",
    "    for epi in range(n_episodes):\n",
    "        # n_way : 하나의 task에 포함된 class 개수 : way (20way)\n",
    "        # n_classes : 전체 class 개수, 전체 candidate classes (총 64개 class)\n",
    "        # epi_classes : random으로 k_way개(5) 추출된 class\n",
    "        epi_classes = np.random.permutation(n_classes)[:n_way]\n",
    "        # (20, 5, 84, 84, 3)  --> x\n",
    "        support = np.zeros([n_way, n_shot, im_height, im_width, channels], dtype=np.float32)\n",
    "        # (20, 15, 84, 84, 3) --> q\n",
    "        query = np.zeros([n_way, n_query, im_height, im_width, channels], dtype=np.float32)\n",
    "        # 즉, meta-train용(support) shot과 meta-test용(query) 필요 image 개수는 20개 (하나의 class내에 20개의 data를 사용)\n",
    "        # 추출된, meta learner용 class별로 looping\n",
    "        for i, epi_cls in enumerate(epi_classes):\n",
    "            # class별로 20장을 추출함. n-shot:support용(5) + query용(15) = (20)\n",
    "            selected = np.random.permutation(n_examples)[:n_shot + n_query]\n",
    "            support[i] = train_dataset[epi_cls, selected[:n_shot]] # meta-query data를 채워줌\n",
    "            query[i] = train_dataset[epi_cls, selected[n_shot:]]   # meta-test data를 채워줌\n",
    "        # (20, 15) ~ row:n_way(20), col:n_query(15)\n",
    "        labels = np.tile(np.arange(n_way)[:, np.newaxis], (1, n_query)).astype(np.uint8) # --> y\n",
    "        _, loss, acc = sess.run([train_op, ce_loss, acc], feed_dict={x:support, q:query, y:labels})\n",
    "        if (epi+1) % 50 == 0:\n",
    "            print('[epoch {}/{}, episode {}/{}] => loss: {:.5f}, acc: {:.5f}'.format(ep+1, n_epochs, epi+1, n_episodes, loss, acc))"
   ]
  },
  {
   "cell_type": "code",
   "execution_count": null,
   "metadata": {},
   "outputs": [],
   "source": [
    "# Load Test Dataset\n",
    "test_dataset = np.load('mini-imagenet-test.npy')\n",
    "n_test_classes = test_dataset.shape[0]\n",
    "print(test_dataset.shape)"
   ]
  },
  {
   "cell_type": "code",
   "execution_count": null,
   "metadata": {},
   "outputs": [],
   "source": [
    "n_test_episodes = 600\n",
    "n_test_way = 5\n",
    "n_test_shot = 5\n",
    "n_test_query = 15"
   ]
  },
  {
   "cell_type": "code",
   "execution_count": null,
   "metadata": {},
   "outputs": [],
   "source": [
    "print('Testing...')\n",
    "avg_acc = 0.\n",
    "for epi in range(n_test_episodes):\n",
    "    epi_classes = np.random.permutation(n_test_classes)[:n_test_way]\n",
    "    support = np.zeros([n_test_way, n_test_shot, im_height, im_width, channels], dtype=np.float32)\n",
    "    query = np.zeros([n_test_way, n_test_query, im_height, im_width, channels], dtype=np.float32)\n",
    "    for i, epi_cls in enumerate(epi_classes):\n",
    "        selected = np.random.permutation(n_examples)[:n_test_shot + n_test_query]\n",
    "        support[i] = test_dataset[epi_cls, selected[:n_test_shot]]\n",
    "        query[i] = test_dataset[epi_cls, selected[n_test_shot:]]\n",
    "    labels = np.tile(np.arange(n_test_way)[:, np.newaxis], (1, n_test_query)).astype(np.uint8)\n",
    "    loss, acc = sess.run([ce_loss, acc], feed_dict={x: support, q: query, y:labels})\n",
    "    avg_acc += acc\n",
    "    if (epi+1) % 50 == 0:\n",
    "        print('[test episode {}/{}] => loss: {:.5f}, acc: {:.5f}'.format(epi+1, n_test_episodes, loss, acc))\n",
    "avg_acc /= n_test_episodes\n",
    "print('Average Test Accuracy: {:.5f}'.format(avg_acc))"
   ]
  }
 ],
 "metadata": {
  "kernelspec": {
   "display_name": "Python 3",
   "language": "python",
   "name": "python3"
  },
  "language_info": {
   "codemirror_mode": {
    "name": "ipython",
    "version": 3
   },
   "file_extension": ".py",
   "mimetype": "text/x-python",
   "name": "python",
   "nbconvert_exporter": "python",
   "pygments_lexer": "ipython3",
   "version": "3.8.3"
  }
 },
 "nbformat": 4,
 "nbformat_minor": 4
}
